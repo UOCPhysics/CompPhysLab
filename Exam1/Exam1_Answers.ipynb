{
 "cells": [
  {
   "cell_type": "markdown",
   "id": "fa425a47",
   "metadata": {},
   "source": [
    "### 1. The expressions of the slope and intercept of least square regression formula of a straight line.\n"
   ]
  },
  {
   "cell_type": "markdown",
   "id": "fbdf61d3",
   "metadata": {},
   "source": [
    "If the equation of a strait line is $ y=mx+c$, the slope is given by\n",
    "    \n",
    "$$ m = \\frac{N\\sum_i(x_iy_i)-\\sum_ix_i\\sum_iy_i}{N\\sum_i(x_i^2)-(\\sum_ix_i)^2}$$\n",
    "\n",
    "And the intercept is given by \n",
    "    \n",
    "$$ b = \\frac{\\sum_iy_i - m \\sum_ix_i}{N}$$ "
   ]
  },
  {
   "cell_type": "markdown",
   "id": "44322289",
   "metadata": {},
   "source": [
    "### 2. The main difference between regression and interpolation by using least square regression and linear interpolation as the examples."
   ]
  },
  {
   "cell_type": "markdown",
   "id": "c6df4a80",
   "metadata": {},
   "source": [
    "Regression analysis is a method used to find the connection between two or more variables by finding the best-fitting curve or line. The goal is to minimize the difference between the actual values and the predicted values. \n",
    "In least square regression, this is achieved by reducing the error as much as possible between the observed data and the values estimated by the regression line or curve. This can be used to predict the values even beyond the range considered for finding the best fit.\n",
    "\n",
    "However, Interpolation is used when we have a limited set of data points and want to estimate values within the range of those data points. In linear interpolation, it assumes a linear relationship between data points and provides estimates for values within the known range. \n"
   ]
  },
  {
   "cell_type": "markdown",
   "id": "72f5fcd7",
   "metadata": {},
   "source": [
    "### 3. State the expression for mean squared error."
   ]
  },
  {
   "cell_type": "markdown",
   "id": "8f346314",
   "metadata": {},
   "source": [
    "$$\\text{MSE} = \\frac{1}{N} \\sum_{i=1}^N(y_i-y_\\text{expected})^2$$"
   ]
  },
  {
   "cell_type": "markdown",
   "id": "98b8fd28",
   "metadata": {},
   "source": [
    "### 4. Developing Python Programs"
   ]
  },
  {
   "cell_type": "markdown",
   "id": "d3b728b8",
   "metadata": {},
   "source": [
    "Consider a dataset of distance (Y) at different time points (t) in their appropriate units:\n",
    "  \n",
    "$t = [  1,3,5,6,7,9 ]$\n",
    "    \n",
    "$Y = [16,194,820,1391,2182,4568]$\n",
    "\n",
    "\n"
   ]
  },
  {
   "cell_type": "markdown",
   "id": "8dcf0a1b",
   "metadata": {},
   "source": [
    "#### To find the best degree of the polynomial that fits the data using mean squared error."
   ]
  },
  {
   "cell_type": "code",
   "execution_count": 1,
   "id": "497e9093",
   "metadata": {},
   "outputs": [
    {
     "name": "stdout",
     "output_type": "stream",
     "text": [
      "Best degree: 4\n"
     ]
    },
    {
     "name": "stderr",
     "output_type": "stream",
     "text": [
      "/Users/dilanga/opt/anaconda3/envs/abinit/lib/python3.7/site-packages/IPython/core/interactiveshell.py:3457: RankWarning: Polyfit may be poorly conditioned\n",
      "  exec(code_obj, self.user_global_ns, self.user_ns)\n",
      "/Users/dilanga/opt/anaconda3/envs/abinit/lib/python3.7/site-packages/IPython/core/interactiveshell.py:3457: RankWarning: Polyfit may be poorly conditioned\n",
      "  exec(code_obj, self.user_global_ns, self.user_ns)\n",
      "/Users/dilanga/opt/anaconda3/envs/abinit/lib/python3.7/site-packages/IPython/core/interactiveshell.py:3457: RankWarning: Polyfit may be poorly conditioned\n",
      "  exec(code_obj, self.user_global_ns, self.user_ns)\n",
      "/Users/dilanga/opt/anaconda3/envs/abinit/lib/python3.7/site-packages/IPython/core/interactiveshell.py:3457: RankWarning: Polyfit may be poorly conditioned\n",
      "  exec(code_obj, self.user_global_ns, self.user_ns)\n"
     ]
    },
    {
     "data": {
      "image/png": "[encoded data removed]",
      "text/plain": [
       "<Figure size 432x288 with 1 Axes>"
      ]
     },
     "metadata": {
      "needs_background": "light"
     },
     "output_type": "display_data"
    }
   ],
   "source": [
    "import numpy as np\n",
    "import matplotlib.pyplot as plt\n",
    "\n",
    "t=[1,  3,  5,  6, 7,  9 ]\n",
    "Y=[16, 194, 820, 1391, 2182, 4568]\n",
    "\n",
    "# Set the range of degrees to try\n",
    "degrees = range(1, 10)\n",
    "\n",
    "best_degree = None\n",
    "best_mse = float('inf')\n",
    "\n",
    "for degree in degrees:\n",
    "    # Fit polynomial of the current degree\n",
    "    coefficients = np.polyfit(t, Y, degree)\n",
    "\n",
    "    # Create polynomial equation\n",
    "    polynomial = np.poly1d(coefficients)\n",
    "\n",
    "    # Evaluate the polynomial\n",
    "    y_pred = polynomial(t)\n",
    "\n",
    "    # Calculate mean squared error (MSE)\n",
    "    mse = np.mean((y_pred - Y) ** 2)\n",
    "\n",
    "    # Update best degree if current MSE is lower\n",
    "    if mse < best_mse:\n",
    "        best_mse = mse\n",
    "        best_degree = degree\n",
    "\n",
    "print(\"Best degree:\", best_degree)\n",
    "\n",
    "coefficients = np.polyfit(t, Y, best_degree)\n",
    "polynomial = np.poly1d(coefficients)\n",
    "\n",
    "\n",
    "# Plot the generated data and the best-fit polynomial\n",
    "plt.scatter(t, Y, label='Generated Data')\n",
    "plt.plot(t, polynomial(t), label='Best-fit Polynomial')\n",
    "plt.xlabel('t')\n",
    "plt.ylabel('Y')\n",
    "plt.legend()\n",
    "plt.show()"
   ]
  },
  {
   "cell_type": "markdown",
   "id": "94fdca0e",
   "metadata": {},
   "source": [
    "### To find the best fit based on linear interpolation."
   ]
  },
  {
   "cell_type": "code",
   "execution_count": 2,
   "id": "37ce7533",
   "metadata": {},
   "outputs": [
    {
     "data": {
      "image/png": "[encoded data removed]",
      "text/plain": [
       "<Figure size 432x288 with 1 Axes>"
      ]
     },
     "metadata": {
      "needs_background": "light"
     },
     "output_type": "display_data"
    }
   ],
   "source": [
    "from scipy.interpolate import interp1d\n",
    "\n",
    "funct = interp1d(t,Y)\n",
    "\n",
    "y_li = funct(t)\n",
    "\n",
    "# Plot the generated data and the best-fit polynomial\n",
    "plt.scatter(t, Y, label='Generated Data')\n",
    "plt.plot(t, y_li, label='Linear Interpolation')\n",
    "plt.xlabel('t')\n",
    "plt.ylabel('Y')\n",
    "plt.legend()\n",
    "plt.show()"
   ]
  },
  {
   "cell_type": "markdown",
   "id": "eddac411",
   "metadata": {},
   "source": [
    "### To find the best fit based on linear interpolation."
   ]
  },
  {
   "cell_type": "code",
   "execution_count": 3,
   "id": "278756b4",
   "metadata": {},
   "outputs": [
    {
     "data": {
      "image/png": "[encoded data removed]",
      "text/plain": [
       "<Figure size 432x288 with 1 Axes>"
      ]
     },
     "metadata": {
      "needs_background": "light"
     },
     "output_type": "display_data"
    }
   ],
   "source": [
    "from scipy.interpolate import lagrange\n",
    "\n",
    "f = lagrange(t, Y)\n",
    "\n",
    "y_lp = f(t)\n",
    "\n",
    "# Plot the generated data and the best-fit polynomial\n",
    "plt.scatter(t, Y, label='Generated Data')\n",
    "plt.plot(t, y_lp, label='Lagrange Interpolation')\n",
    "plt.xlabel('t')\n",
    "plt.ylabel('Y')\n",
    "plt.legend()\n",
    "plt.show()"
   ]
  },
  {
   "cell_type": "code",
   "execution_count": null,
   "id": "a3f582fe",
   "metadata": {},
   "outputs": [],
   "source": []
  },
  {
   "cell_type": "code",
   "execution_count": null,
   "id": "ce026dfe",
   "metadata": {},
   "outputs": [],
   "source": []
  }
 ],
 "metadata": {
  "kernelspec": {
   "display_name": "Python 3 (ipykernel)",
   "language": "python",
   "name": "python3"
  },
  "language_info": {
   "codemirror_mode": {
    "name": "ipython",
    "version": 3
   },
   "file_extension": ".py",
   "mimetype": "text/x-python",
   "name": "python",
   "nbconvert_exporter": "python",
   "pygments_lexer": "ipython3",
   "version": "3.7.11"
  }
 },
 "nbformat": 4,
 "nbformat_minor": 5
}
