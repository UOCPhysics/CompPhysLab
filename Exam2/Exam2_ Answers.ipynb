{
 "cells": [
  {
   "cell_type": "code",
   "execution_count": 1,
   "id": "6b91549a",
   "metadata": {},
   "outputs": [],
   "source": [
    "#Import NumPy\n",
    "import numpy as np\n",
    "\n",
    "#f(x) as a function\n",
    "def f(x):\n",
    "    return  10*x**2 - 2**10\n",
    "\n",
    "#Python function for central difference mehtod for 1st order\n",
    "def central_diff_first(f,x, h):\n",
    "    return (f(x + h) - f(x - h)) / (2 * h)\n",
    "\n",
    "#Python function for central difference mehtod for 2nd order\n",
    "def central_diff_second(f,x, h):\n",
    "    return (f(x + h) - 2 * f(x) + f(x - h)) / (h**2)\n"
   ]
  },
  {
   "cell_type": "code",
   "execution_count": 2,
   "id": "87d3c802",
   "metadata": {},
   "outputs": [],
   "source": [
    "#Function for Mean Absolute Error (MAE)\n",
    "def MAE(expected_value, numerical_value):\n",
    "    return np.mean(np.abs(expected_value - numerical_value))\n"
   ]
  },
  {
   "cell_type": "code",
   "execution_count": 3,
   "id": "cbe285cd",
   "metadata": {},
   "outputs": [],
   "source": [
    "#define some x values\n",
    "x = np.arange(0,10,1)\n"
   ]
  },
  {
   "cell_type": "code",
   "execution_count": 4,
   "id": "78960b75",
   "metadata": {},
   "outputs": [],
   "source": [
    "#Calculating derivatives when h=0.1\n",
    "h=0.1\n",
    "y_prime_01 = central_diff_first(f,x,h)\n",
    "y_prime2_01 = central_diff_second(f,x,h)"
   ]
  },
  {
   "cell_type": "code",
   "execution_count": 5,
   "id": "6a633d19",
   "metadata": {},
   "outputs": [],
   "source": [
    "#Calculating derivatives when h=0.001\n",
    "h=0.001\n",
    "y_prime_0001 = central_diff_first(f,x,h)\n",
    "y_prime2_0001 = central_diff_second(f,x,h)"
   ]
  },
  {
   "cell_type": "code",
   "execution_count": 6,
   "id": "57f93f06",
   "metadata": {},
   "outputs": [],
   "source": [
    "#Analytical Solusions \n",
    "def f_prime(x):\n",
    "    return 20 * x\n",
    "\n",
    "def f_prime2(x):\n",
    "    return 20 \n"
   ]
  },
  {
   "cell_type": "code",
   "execution_count": 7,
   "id": "cc407ccb",
   "metadata": {},
   "outputs": [],
   "source": [
    "y_prime = f_prime(x)\n",
    "y_prime2 = f_prime2(x)"
   ]
  },
  {
   "cell_type": "code",
   "execution_count": 8,
   "id": "9959ac96",
   "metadata": {},
   "outputs": [
    {
     "name": "stdout",
     "output_type": "stream",
     "text": [
      "MAE = 3.410605131648481e-13\n",
      "MAE = 5.228173449722817e-12\n"
     ]
    }
   ],
   "source": [
    "#MAE when h=0.1\n",
    "mae_01 = MAE(y_prime,y_prime_01)\n",
    "print(f\"MAE = {mae_01}\")\n",
    "\n",
    "mae2_01 = MAE(y_prime2,y_prime2_01)\n",
    "print(f\"MAE = {mae2_01}\")"
   ]
  },
  {
   "cell_type": "code",
   "execution_count": 9,
   "id": "6d22bf52",
   "metadata": {},
   "outputs": [
    {
     "name": "stdout",
     "output_type": "stream",
     "text": [
      "MAE = 4.524736141320318e-11\n",
      "MAE = 7.70414771977812e-08\n"
     ]
    }
   ],
   "source": [
    "#MAE when h=0.001\n",
    "mae_0001 = MAE(y_prime,y_prime_0001)\n",
    "print(f\"MAE = {mae_0001}\")\n",
    "\n",
    "mae2_0001 = MAE(y_prime2,y_prime2_0001)\n",
    "print(f\"MAE = {mae2_0001}\")"
   ]
  },
  {
   "cell_type": "markdown",
   "id": "a0bd0341",
   "metadata": {},
   "source": [
    "import matplotlib.pyplot as plt\n",
    "plt.plot(x,y_prime)\n",
    "plt.plot(x,y_prime_01)\n",
    "plt.plot(x,y_prime_0001)"
   ]
  },
  {
   "cell_type": "code",
   "execution_count": 10,
   "id": "3a6e1922",
   "metadata": {},
   "outputs": [
    {
     "data": {
      "text/plain": [
       "array([  0,  20,  40,  60,  80, 100, 120, 140, 160, 180])"
      ]
     },
     "execution_count": 10,
     "metadata": {},
     "output_type": "execute_result"
    }
   ],
   "source": [
    "y_prime"
   ]
  },
  {
   "cell_type": "code",
   "execution_count": 11,
   "id": "a860e049",
   "metadata": {},
   "outputs": [
    {
     "data": {
      "text/plain": [
       "array([  0.,  20.,  40.,  60.,  80., 100., 120., 140., 160., 180.])"
      ]
     },
     "execution_count": 11,
     "metadata": {},
     "output_type": "execute_result"
    }
   ],
   "source": [
    "y_prime_01"
   ]
  },
  {
   "cell_type": "code",
   "execution_count": 12,
   "id": "b6ae021b",
   "metadata": {},
   "outputs": [
    {
     "data": {
      "text/plain": [
       "array([  0.,  20.,  40.,  60.,  80., 100., 120., 140., 160., 180.])"
      ]
     },
     "execution_count": 12,
     "metadata": {},
     "output_type": "execute_result"
    }
   ],
   "source": [
    "h=0.1\n",
    "central_diff_first(f,x,0.1)"
   ]
  },
  {
   "cell_type": "code",
   "execution_count": 13,
   "id": "79c3bcee",
   "metadata": {},
   "outputs": [
    {
     "data": {
      "text/plain": [
       "array([  0.,  20.,  40.,  60.,  80., 100., 120., 140., 160., 180.])"
      ]
     },
     "execution_count": 13,
     "metadata": {},
     "output_type": "execute_result"
    }
   ],
   "source": [
    "h=0.001\n",
    "central_diff_first(f,x,0.001)"
   ]
  },
  {
   "cell_type": "code",
   "execution_count": 14,
   "id": "60c49bd6",
   "metadata": {},
   "outputs": [
    {
     "data": {
      "text/plain": [
       "array([-1024, -1014,  -984,  -934,  -864,  -774,  -664,  -534,  -384,\n",
       "        -214], dtype=int32)"
      ]
     },
     "execution_count": 14,
     "metadata": {},
     "output_type": "execute_result"
    }
   ],
   "source": [
    "f(x)"
   ]
  },
  {
   "cell_type": "code",
   "execution_count": 15,
   "id": "3bf9767b",
   "metadata": {},
   "outputs": [
    {
     "name": "stdout",
     "output_type": "stream",
     "text": [
      "First derivative: 36.75999999999988\n",
      "Second derivative: 29.000000000007724\n"
     ]
    }
   ],
   "source": [
    "def f(x):\n",
    "    return x**3 + 10 * x**2 - 2**10\n",
    "\n",
    "def central_difference_first_derivative(x, h):\n",
    "    return (f(x + h) - f(x - h)) / (2 * h)\n",
    "\n",
    "def central_difference_second_derivative(x, h):\n",
    "    return (f(x + h) - 2 * f(x) + f(x - h)) / (h**2)\n",
    "\n",
    "# Specify the value of x and the step size h\n",
    "x = 1.5\n",
    "h = 0.1\n",
    "\n",
    "# Compute the first derivative\n",
    "f_prime = central_difference_first_derivative(x, h)\n",
    "print(\"First derivative:\", f_prime)\n",
    "\n",
    "# Compute the second derivative\n",
    "f_double_prime = central_difference_second_derivative(x, h)\n",
    "print(\"Second derivative:\", f_double_prime)\n"
   ]
  },
  {
   "cell_type": "code",
   "execution_count": 16,
   "id": "4f0b5c91",
   "metadata": {},
   "outputs": [
    {
     "name": "stdout",
     "output_type": "stream",
     "text": [
      "Mean Absolute Error for f' (h=0.1): 0.0\n",
      "Mean Absolute Error for f' (h=0.001): 2.7284841053187847e-11\n",
      "Mean Absolute Error for f'' (h=0.1): 4.543920795185841e-12\n",
      "Mean Absolute Error for f'' (h=0.001): 5.0495145842432976e-08\n"
     ]
    }
   ],
   "source": [
    "def f(x):\n",
    "    return 10 * x**2 - 2**10\n",
    "\n",
    "def central_difference_first_derivative(x, h):\n",
    "    return (f(x + h) - f(x - h)) / (2 * h)\n",
    "\n",
    "def central_difference_second_derivative(x, h):\n",
    "    return (f(x + h) - 2 * f(x) + f(x - h)) / (h**2)\n",
    "\n",
    "def absolute_error(expected_value, numerical_value):\n",
    "    return abs(expected_value - numerical_value)\n",
    "\n",
    "# Specify the value of x and the step sizes h\n",
    "x = 1.5\n",
    "h1 = 0.1\n",
    "h2 = 0.001\n",
    "\n",
    "# Compute the expected values analytically\n",
    "f_prime_expected = 20 * x\n",
    "f_double_prime_expected = 20\n",
    "\n",
    "# Compute the numerical approximations using central difference method\n",
    "f_prime_numerical_h1 = central_difference_first_derivative(x, h1)\n",
    "f_prime_numerical_h2 = central_difference_first_derivative(x, h2)\n",
    "f_double_prime_numerical_h1 = central_difference_second_derivative(x, h1)\n",
    "f_double_prime_numerical_h2 = central_difference_second_derivative(x, h2)\n",
    "\n",
    "# Compute the mean absolute errors\n",
    "error_f_prime_h1 = absolute_error(f_prime_expected, f_prime_numerical_h1)\n",
    "error_f_prime_h2 = absolute_error(f_prime_expected, f_prime_numerical_h2)\n",
    "error_f_double_prime_h1 = absolute_error(f_double_prime_expected, f_double_prime_numerical_h1)\n",
    "error_f_double_prime_h2 = absolute_error(f_double_prime_expected, f_double_prime_numerical_h2)\n",
    "\n",
    "# Print the mean absolute errors\n",
    "print(\"Mean Absolute Error for f' (h=0.1):\", error_f_prime_h1)\n",
    "print(\"Mean Absolute Error for f' (h=0.001):\", error_f_prime_h2)\n",
    "print(\"Mean Absolute Error for f'' (h=0.1):\", error_f_double_prime_h1)\n",
    "print(\"Mean Absolute Error for f'' (h=0.001):\", error_f_double_prime_h2)\n"
   ]
  },
  {
   "cell_type": "code",
   "execution_count": 17,
   "id": "69b93049",
   "metadata": {},
   "outputs": [
    {
     "name": "stdout",
     "output_type": "stream",
     "text": [
      "Mean Absolute Error for f' (h=0.1): 0.0\n",
      "Mean Absolute Error for f' (h=0.001): 2.7284841053187847e-11\n",
      "Mean Absolute Error for f'' (h=0.1): 4.543920795185841e-12\n",
      "Mean Absolute Error for f'' (h=0.001): 5.0495145842432976e-08\n"
     ]
    }
   ],
   "source": [
    "def absolute_error(expected_value, numerical_value):\n",
    "    return abs(expected_value - numerical_value)\n",
    "\n",
    "# Specify the value of x and the step sizes h\n",
    "x = 1.5\n",
    "h1 = 0.1\n",
    "h2 = 0.001\n",
    "\n",
    "# Compute the numerical approximations using central difference method\n",
    "f_prime_numerical_h1 = central_difference_first_derivative(x, h1)\n",
    "f_prime_numerical_h2 = central_difference_first_derivative(x, h2)\n",
    "f_double_prime_numerical_h1 = central_difference_second_derivative(x, h1)\n",
    "f_double_prime_numerical_h2 = central_difference_second_derivative(x, h2)\n",
    "\n",
    "# Compute the expected values using analytical solutions\n",
    "f_prime_expected = 20 * x\n",
    "f_double_prime_expected = 20\n",
    "\n",
    "# Compute the mean absolute errors\n",
    "error_f_prime_h1 = absolute_error(f_prime_expected, f_prime_numerical_h1)\n",
    "error_f_prime_h2 = absolute_error(f_prime_expected, f_prime_numerical_h2)\n",
    "error_f_double_prime_h1 = absolute_error(f_double_prime_expected, f_double_prime_numerical_h1)\n",
    "error_f_double_prime_h2 = absolute_error(f_double_prime_expected, f_double_prime_numerical_h2)\n",
    "\n",
    "# Print the mean absolute errors\n",
    "print(\"Mean Absolute Error for f' (h=0.1):\", error_f_prime_h1)\n",
    "print(\"Mean Absolute Error for f' (h=0.001):\", error_f_prime_h2)\n",
    "print(\"Mean Absolute Error for f'' (h=0.1):\", error_f_double_prime_h1)\n",
    "print(\"Mean Absolute Error for f'' (h=0.001):\", error_f_double_prime_h2)\n"
   ]
  },
  {
   "cell_type": "code",
   "execution_count": 8,
   "id": "60c36d49",
   "metadata": {},
   "outputs": [],
   "source": [
    "def trapezoidal_rule(f, a, b, n):\n",
    "    h = (b - a) / n\n",
    "    integral = 0.5 * (f(a) + f(b))\n",
    "    for i in range(1, n):\n",
    "        x = a + i * h\n",
    "        integral += f(x)\n",
    "    integral *= h\n",
    "    return integral\n",
    "\n",
    "def simpsons_rule(f, a, b, n):\n",
    "    if n % 2 != 0:\n",
    "        raise ValueError(\"Number of subintervals must be even.\")\n",
    "    h = (b - a) / n\n",
    "    integral = f(a) + f(b)\n",
    "    for i in range(1, n):\n",
    "        x = a + i * h\n",
    "        coeff = 2 if i % 2 == 0 else 4\n",
    "        integral += coeff * f(x)\n",
    "    integral *= h / 3\n",
    "    return integral\n",
    "\n"
   ]
  },
  {
   "cell_type": "code",
   "execution_count": 9,
   "id": "7c0cb21d",
   "metadata": {},
   "outputs": [
    {
     "name": "stdout",
     "output_type": "stream",
     "text": [
      "The total area using Trapezoidal rule: 40.0\n"
     ]
    }
   ],
   "source": [
    "# Functions based on the graph\n",
    "def f1(x):\n",
    "    return 2.5 * x\n",
    "\n",
    "def f2(x):\n",
    "    return -2.5 * x + 20\n",
    "\n",
    "a = 0  # Lower limit for straight line 1\n",
    "b = 4  # Upper limit for straight line 1\n",
    "n = 100  # Number of subintervals\n",
    "\n",
    "result1 = trapezoidal_rule(f1, a, b, n)\n",
    "\n",
    "a = 4  # Lower limit for straight line 2\n",
    "b = 8  # Upper limit for straight line 2\n",
    "result2 = trapezoidal_rule(f2, a, b, n)\n",
    "\n",
    "total_area = result1 + result2\n",
    "print(\"The total area using Trapezoidal rule:\", total_area)\n"
   ]
  },
  {
   "cell_type": "code",
   "execution_count": 11,
   "id": "49074cd9",
   "metadata": {},
   "outputs": [
    {
     "name": "stdout",
     "output_type": "stream",
     "text": [
      "The total area using Simpson's rule: 40.0\n"
     ]
    }
   ],
   "source": [
    "# Functions based on the graph\n",
    "def f1(x):\n",
    "    return 2.5 * x\n",
    "\n",
    "def f2(x):\n",
    "    return -2.5 * x + 20\n",
    "\n",
    "a = 0  # Lower limit for straight line 1\n",
    "b = 4  # Upper limit for straight line 1\n",
    "n = 100  # Number of subintervals\n",
    "\n",
    "result1 = simpsons_rule(f1, a, b, n)\n",
    "\n",
    "a = 4  # Lower limit for straight line 2\n",
    "b = 8  # Upper limit for straight line 2\n",
    "result2 = simpsons_rule(f2, a, b, n)\n",
    "\n",
    "total_area = result1 + result2\n",
    "print(\"The total area using Simpson's rule:\", total_area)\n"
   ]
  },
  {
   "cell_type": "code",
   "execution_count": null,
   "id": "dfb20c80",
   "metadata": {},
   "outputs": [],
   "source": []
  }
 ],
 "metadata": {
  "kernelspec": {
   "display_name": "Python 3 (ipykernel)",
   "language": "python",
   "name": "python3"
  },
  "language_info": {
   "codemirror_mode": {
    "name": "ipython",
    "version": 3
   },
   "file_extension": ".py",
   "mimetype": "text/x-python",
   "name": "python",
   "nbconvert_exporter": "python",
   "pygments_lexer": "ipython3",
   "version": "3.7.11"
  }
 },
 "nbformat": 4,
 "nbformat_minor": 5
}
