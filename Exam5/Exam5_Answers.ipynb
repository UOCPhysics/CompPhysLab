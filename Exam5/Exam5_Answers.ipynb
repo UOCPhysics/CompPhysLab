{
 "cells": [
  {
   "cell_type": "code",
   "execution_count": 9,
   "id": "c0f5300b",
   "metadata": {},
   "outputs": [],
   "source": [
    "def f(x):\n",
    "    return x**3 - 4*x**2 + 5*x - 2\n",
    "\n",
    "def bisection_method(f, a, b, tolerance):\n",
    "    if f(a) * f(b) >= 0:\n",
    "        print(\"No root can be found.\")\n",
    "        return None\n",
    "\n",
    "    while (b - a) / 2 > tolerance:\n",
    "        c = (a + b) / 2\n",
    "        if f(c) == 0:\n",
    "            return c\n",
    "        elif f(c) * f(a) < 0:\n",
    "            b = c\n",
    "        else:\n",
    "            a = c\n",
    "\n",
    "    return (a + b) / 2\n"
   ]
  },
  {
   "cell_type": "code",
   "execution_count": 13,
   "id": "9a352511",
   "metadata": {},
   "outputs": [
    {
     "name": "stdout",
     "output_type": "stream",
     "text": [
      "Root is approximately: 2.000000\n"
     ]
    }
   ],
   "source": [
    "# Set the interval [a, b] where the root is expected to be.\n",
    "a = 1.5\n",
    "b = 3\n",
    "\n",
    "# Set the desired tolerance level.\n",
    "tolerance = 1e-6\n",
    "\n",
    "root = bisection_method(f, a, b, tolerance)\n",
    "\n",
    "print(f\"Root is approximately: {root:.6f}\")\n"
   ]
  },
  {
   "cell_type": "code",
   "execution_count": 16,
   "id": "3b485718",
   "metadata": {},
   "outputs": [
    {
     "data": {
      "text/plain": [
       "4"
      ]
     },
     "execution_count": 16,
     "metadata": {},
     "output_type": "execute_result"
    }
   ],
   "source": [
    "f(3)"
   ]
  },
  {
   "cell_type": "code",
   "execution_count": 17,
   "id": "f06e39b7",
   "metadata": {},
   "outputs": [],
   "source": [
    "def sqrt(x):\n",
    "    return x**2-9"
   ]
  },
  {
   "cell_type": "code",
   "execution_count": 22,
   "id": "11215ca8",
   "metadata": {},
   "outputs": [],
   "source": [
    "t_list=[0.1,0.01,0.001]"
   ]
  },
  {
   "cell_type": "code",
   "execution_count": 29,
   "id": "0ed9cfbd",
   "metadata": {},
   "outputs": [],
   "source": [
    "def run_bm(tolerance):\n",
    "    root=bisection_method(sqrt,1,4,tolerance)\n",
    "    error = abs(3-root)\n",
    "    print(f\"tolerance is {tolerance} \\n\")\n",
    "    print(f\"Estimated root is {root} \\n\")\n",
    "    print(f\"Absolute error is {error} \\n\")"
   ]
  },
  {
   "cell_type": "code",
   "execution_count": 30,
   "id": "f4492fcf",
   "metadata": {},
   "outputs": [
    {
     "name": "stdout",
     "output_type": "stream",
     "text": [
      "--------------------------\n",
      "tolerance is 0.1 \n",
      "\n",
      "Estimated root is 2.96875 \n",
      "\n",
      "Absolute error is 0.03125 \n",
      "\n",
      "--------------------------\n",
      "tolerance is 0.01 \n",
      "\n",
      "Estimated root is 2.998046875 \n",
      "\n",
      "Absolute error is 0.001953125 \n",
      "\n",
      "--------------------------\n",
      "tolerance is 0.001 \n",
      "\n",
      "Estimated root is 3.000244140625 \n",
      "\n",
      "Absolute error is 0.000244140625 \n",
      "\n"
     ]
    }
   ],
   "source": [
    "for t in t_list:\n",
    "    print(\"--------------------------\")\n",
    "    run_bm(t)"
   ]
  },
  {
   "cell_type": "code",
   "execution_count": 49,
   "id": "ffe295e4",
   "metadata": {},
   "outputs": [],
   "source": [
    "def sqrt(x):\n",
    "    return x**2-9\n",
    "\n",
    "def sqrt_prime(x):\n",
    "    return 2*x"
   ]
  },
  {
   "cell_type": "code",
   "execution_count": 50,
   "id": "ab9794df",
   "metadata": {},
   "outputs": [],
   "source": [
    "def nr_method(f,f_prime,initial_guess, tolerance, max_iterations):\n",
    "    x = initial_guess\n",
    "    iterations = 0\n",
    "\n",
    "    while(abs(f(x)) > tolerance and iterations < max_iterations):\n",
    "        if(f_prime(x) == 0):\n",
    "            print(\"The derivative is zero. Cannot continue.\")\n",
    "            return None\n",
    "        x = x - f(x) / f_prime(x)\n",
    "        iterations += 1\n",
    "\n",
    "    if(iterations == max_iterations):\n",
    "        print(\"Maximum iterations reached. No root found.\")\n",
    "        return None\n",
    "\n",
    "    return x"
   ]
  },
  {
   "cell_type": "code",
   "execution_count": 53,
   "id": "5047ae44",
   "metadata": {},
   "outputs": [],
   "source": [
    "def run_nrm(tolerance):\n",
    "    root=nr_method(sqrt,sqrt_prime,2,tolerance,100000)\n",
    "    error = abs(3-root)\n",
    "    print(f\"tolerance is {tolerance} \\n\")\n",
    "    print(f\"Estimated root is {root} \\n\")\n",
    "    print(f\"Absolute error is {error} \\n\")"
   ]
  },
  {
   "cell_type": "code",
   "execution_count": 54,
   "id": "1778bc8c",
   "metadata": {},
   "outputs": [
    {
     "name": "stdout",
     "output_type": "stream",
     "text": [
      "--------------------------\n",
      "tolerance is 0.1 \n",
      "\n",
      "Estimated root is 3.0096153846153846 \n",
      "\n",
      "Absolute error is 0.009615384615384581 \n",
      "\n",
      "--------------------------\n",
      "tolerance is 0.01 \n",
      "\n",
      "Estimated root is 3.000015360039322 \n",
      "\n",
      "Absolute error is 1.5360039321787866e-05 \n",
      "\n",
      "--------------------------\n",
      "tolerance is 0.001 \n",
      "\n",
      "Estimated root is 3.000015360039322 \n",
      "\n",
      "Absolute error is 1.5360039321787866e-05 \n",
      "\n"
     ]
    }
   ],
   "source": [
    "for t in t_list:\n",
    "    print(\"--------------------------\")\n",
    "    run_nrm(t)"
   ]
  },
  {
   "cell_type": "code",
   "execution_count": null,
   "id": "24974918",
   "metadata": {},
   "outputs": [],
   "source": []
  },
  {
   "cell_type": "code",
   "execution_count": null,
   "id": "05eb7d54",
   "metadata": {},
   "outputs": [],
   "source": []
  }
 ],
 "metadata": {
  "kernelspec": {
   "display_name": "Python 3 (ipykernel)",
   "language": "python",
   "name": "python3"
  },
  "language_info": {
   "codemirror_mode": {
    "name": "ipython",
    "version": 3
   },
   "file_extension": ".py",
   "mimetype": "text/x-python",
   "name": "python",
   "nbconvert_exporter": "python",
   "pygments_lexer": "ipython3",
   "version": "3.7.11"
  }
 },
 "nbformat": 4,
 "nbformat_minor": 5
}
